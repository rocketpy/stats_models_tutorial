{
 "cells": [
  {
   "cell_type": "code",
   "execution_count": null,
   "metadata": {},
   "outputs": [],
   "source": [
    "# installation:  pip install -U statsmodels\n",
    "\n",
    "# https://www.statsmodels.org/stable/index.html"
   ]
  },
  {
   "cell_type": "code",
   "execution_count": null,
   "metadata": {},
   "outputs": [],
   "source": [
    "#  for getting started go to :\n",
    "\n",
    "#  https://www.statsmodels.org/stable/gettingstarted.html"
   ]
  },
  {
   "cell_type": "code",
   "execution_count": null,
   "metadata": {},
   "outputs": [],
   "source": [
    "# simple examples\n",
    "\n",
    "import numpy as np\n",
    "import statsmodels.api as sm\n",
    "import statsmodels.formula.api as smf\n",
    "\n",
    "\n",
    "#  load data\n",
    "dt = sm.datasets.get_rdataset(\"Guerry\", \"HistData\").data\n",
    "\n",
    "#  fit regression model (using the natural log of one of the regressors)\n",
    "result = smf.ols('Lottery ~ Literacy + np.log(Pop1831)', data=dt).fit()\n",
    "\n",
    "#  inspect the results\n",
    "print(result.summary())"
   ]
  },
  {
   "cell_type": "code",
   "execution_count": null,
   "metadata": {},
   "outputs": [],
   "source": [
    "import numpy as np\n",
    "import statsmodels.api as sm\n",
    "\n",
    "\n",
    "#  generate artificial data (2 regressors + constant)\n",
    "nobs = 100\n",
    "\n",
    "X = np.random.random((nobs, 2))\n",
    "X = sm.add_constant(X)\n",
    "\n",
    "beta = [1, .1, .5]\n",
    "e = np.random.random(nobs)\n",
    "y = np.dot(X, beta) + e\n",
    "\n",
    "#  fit regression model\n",
    "result = sm.OLS(y, X).fit()\n",
    "\n",
    "#  inspect the results\n",
    "print(result.summary())"
   ]
  },
  {
   "cell_type": "code",
   "execution_count": null,
   "metadata": {},
   "outputs": [],
   "source": [
    "import pandas\n",
    "import numpy as np\n",
    "from __future__ import print_function\n",
    "import statsmodels.api as sm\n",
    "from patsy import dmatrices\n",
    "\n",
    "\n",
    "df = sm.datasets.get_rdataset(\"Guerry\", \"HistData\").data\n",
    "vars = ['Department', 'Lottery', 'Literacy', 'Wealth', 'Region']\n",
    "\n",
    "df = df[vars]\n",
    "print(df[-5:])\n",
    "\n",
    "df = df.dropna()\n",
    "print(df[-5:])\n",
    "\n",
    "#  use patsy’s dmatrices function to create design matrices\n",
    "y, X = dmatrices('Lottery ~ Literacy + Wealth + Region', data=df, return_type='dataframe')\n",
    "print(y[:3])\n",
    "\n",
    "print(X[:3])\n",
    "\n",
    "\n",
    "#  model fit and summary\n",
    "\n",
    "mod = sm.OLS(y, X)    # describe model\n",
    "\n",
    "result = mod.fit()       # fit model\n",
    "\n",
    "print(result.summary())   # summarize model\n",
    "\n",
    "print(result.params)\n",
    "print(result.rsquared)\n",
    "\n",
    "\n",
    "# tests\n",
    "print(sm.stats.linear_rainbow(result))\n",
    "\n",
    "#   draw a plot of partial regression for a set of regressors\n",
    "sm.graphics.plot_partregress('Lottery', 'Wealth', ['Region', 'Literacy'], data=df, obs_labels=False)"
   ]
  }
 ],
 "metadata": {
  "kernelspec": {
   "display_name": "Python 3",
   "language": "python",
   "name": "python3"
  },
  "language_info": {
   "codemirror_mode": {
    "name": "ipython",
    "version": 3
   },
   "file_extension": ".py",
   "mimetype": "text/x-python",
   "name": "python",
   "nbconvert_exporter": "python",
   "pygments_lexer": "ipython3",
   "version": "3.6.2"
  }
 },
 "nbformat": 4,
 "nbformat_minor": 2
}
